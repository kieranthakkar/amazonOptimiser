{
 "cells": [
  {
   "cell_type": "code",
   "execution_count": 8,
   "metadata": {},
   "outputs": [],
   "source": [
    "# imports\n",
    "import pandas as pd, numpy as np, matplotlib.pyplot as plt, seaborn as sns"
   ]
  },
  {
   "cell_type": "code",
   "execution_count": 4,
   "metadata": {},
   "outputs": [
    {
     "data": {
      "text/html": [
       "<div>\n",
       "<style scoped>\n",
       "    .dataframe tbody tr th:only-of-type {\n",
       "        vertical-align: middle;\n",
       "    }\n",
       "\n",
       "    .dataframe tbody tr th {\n",
       "        vertical-align: top;\n",
       "    }\n",
       "\n",
       "    .dataframe thead th {\n",
       "        text-align: right;\n",
       "    }\n",
       "</style>\n",
       "<table border=\"1\" class=\"dataframe\">\n",
       "  <thead>\n",
       "    <tr style=\"text-align: right;\">\n",
       "      <th></th>\n",
       "      <th>title</th>\n",
       "      <th>stars</th>\n",
       "      <th>reviews</th>\n",
       "      <th>price</th>\n",
       "      <th>isBestSeller</th>\n",
       "      <th>boughtInLastMonth</th>\n",
       "      <th>categoryName</th>\n",
       "    </tr>\n",
       "  </thead>\n",
       "  <tbody>\n",
       "    <tr>\n",
       "      <th>0</th>\n",
       "      <td>Echo Dot (5th generation, 2022 release) | Big ...</td>\n",
       "      <td>4.7</td>\n",
       "      <td>15308</td>\n",
       "      <td>21.99</td>\n",
       "      <td>False</td>\n",
       "      <td>0</td>\n",
       "      <td>Hi-Fi Speakers</td>\n",
       "    </tr>\n",
       "    <tr>\n",
       "      <th>1</th>\n",
       "      <td>Anker Soundcore mini, Super-Portable Bluetooth...</td>\n",
       "      <td>4.7</td>\n",
       "      <td>98099</td>\n",
       "      <td>23.99</td>\n",
       "      <td>True</td>\n",
       "      <td>0</td>\n",
       "      <td>Hi-Fi Speakers</td>\n",
       "    </tr>\n",
       "    <tr>\n",
       "      <th>2</th>\n",
       "      <td>Echo Dot (5th generation, 2022 release) | Big ...</td>\n",
       "      <td>4.7</td>\n",
       "      <td>15308</td>\n",
       "      <td>21.99</td>\n",
       "      <td>False</td>\n",
       "      <td>0</td>\n",
       "      <td>Hi-Fi Speakers</td>\n",
       "    </tr>\n",
       "    <tr>\n",
       "      <th>3</th>\n",
       "      <td>Echo Dot with clock (5th generation, 2022 rele...</td>\n",
       "      <td>4.7</td>\n",
       "      <td>7205</td>\n",
       "      <td>31.99</td>\n",
       "      <td>False</td>\n",
       "      <td>0</td>\n",
       "      <td>Hi-Fi Speakers</td>\n",
       "    </tr>\n",
       "    <tr>\n",
       "      <th>4</th>\n",
       "      <td>Introducing Echo Pop | Full sound compact Wi-F...</td>\n",
       "      <td>4.6</td>\n",
       "      <td>1881</td>\n",
       "      <td>17.99</td>\n",
       "      <td>False</td>\n",
       "      <td>0</td>\n",
       "      <td>Hi-Fi Speakers</td>\n",
       "    </tr>\n",
       "    <tr>\n",
       "      <th>...</th>\n",
       "      <td>...</td>\n",
       "      <td>...</td>\n",
       "      <td>...</td>\n",
       "      <td>...</td>\n",
       "      <td>...</td>\n",
       "      <td>...</td>\n",
       "      <td>...</td>\n",
       "    </tr>\n",
       "    <tr>\n",
       "      <th>2222737</th>\n",
       "      <td>Motorbike Armour, Motorbike Clothing, Cycling ...</td>\n",
       "      <td>0.0</td>\n",
       "      <td>0</td>\n",
       "      <td>22.34</td>\n",
       "      <td>False</td>\n",
       "      <td>0</td>\n",
       "      <td>Motorbike Clothing</td>\n",
       "    </tr>\n",
       "    <tr>\n",
       "      <th>2222738</th>\n",
       "      <td>PROFIRST Waterproof Motorcycle 2 Piece Ladies ...</td>\n",
       "      <td>0.0</td>\n",
       "      <td>0</td>\n",
       "      <td>97.99</td>\n",
       "      <td>False</td>\n",
       "      <td>0</td>\n",
       "      <td>Motorbike Clothing</td>\n",
       "    </tr>\n",
       "    <tr>\n",
       "      <th>2222739</th>\n",
       "      <td>Men’s Motorcycle Motorbike Biker Trousers Kevl...</td>\n",
       "      <td>0.0</td>\n",
       "      <td>0</td>\n",
       "      <td>52.99</td>\n",
       "      <td>False</td>\n",
       "      <td>0</td>\n",
       "      <td>Motorbike Clothing</td>\n",
       "    </tr>\n",
       "    <tr>\n",
       "      <th>2222740</th>\n",
       "      <td>Texpeed Mens Motorcycle Motorbike Biker Trouse...</td>\n",
       "      <td>4.3</td>\n",
       "      <td>404</td>\n",
       "      <td>79.99</td>\n",
       "      <td>False</td>\n",
       "      <td>0</td>\n",
       "      <td>Motorbike Clothing</td>\n",
       "    </tr>\n",
       "    <tr>\n",
       "      <th>2222741</th>\n",
       "      <td>RIDEX CJ223 Motorcycle Motorbike Jacket Armour...</td>\n",
       "      <td>4.5</td>\n",
       "      <td>34</td>\n",
       "      <td>53.99</td>\n",
       "      <td>False</td>\n",
       "      <td>0</td>\n",
       "      <td>Motorbike Clothing</td>\n",
       "    </tr>\n",
       "  </tbody>\n",
       "</table>\n",
       "<p>2222742 rows × 7 columns</p>\n",
       "</div>"
      ],
      "text/plain": [
       "                                                     title  stars  reviews  \\\n",
       "0        Echo Dot (5th generation, 2022 release) | Big ...    4.7    15308   \n",
       "1        Anker Soundcore mini, Super-Portable Bluetooth...    4.7    98099   \n",
       "2        Echo Dot (5th generation, 2022 release) | Big ...    4.7    15308   \n",
       "3        Echo Dot with clock (5th generation, 2022 rele...    4.7     7205   \n",
       "4        Introducing Echo Pop | Full sound compact Wi-F...    4.6     1881   \n",
       "...                                                    ...    ...      ...   \n",
       "2222737  Motorbike Armour, Motorbike Clothing, Cycling ...    0.0        0   \n",
       "2222738  PROFIRST Waterproof Motorcycle 2 Piece Ladies ...    0.0        0   \n",
       "2222739  Men’s Motorcycle Motorbike Biker Trousers Kevl...    0.0        0   \n",
       "2222740  Texpeed Mens Motorcycle Motorbike Biker Trouse...    4.3      404   \n",
       "2222741  RIDEX CJ223 Motorcycle Motorbike Jacket Armour...    4.5       34   \n",
       "\n",
       "         price  isBestSeller  boughtInLastMonth        categoryName  \n",
       "0        21.99         False                  0      Hi-Fi Speakers  \n",
       "1        23.99          True                  0      Hi-Fi Speakers  \n",
       "2        21.99         False                  0      Hi-Fi Speakers  \n",
       "3        31.99         False                  0      Hi-Fi Speakers  \n",
       "4        17.99         False                  0      Hi-Fi Speakers  \n",
       "...        ...           ...                ...                 ...  \n",
       "2222737  22.34         False                  0  Motorbike Clothing  \n",
       "2222738  97.99         False                  0  Motorbike Clothing  \n",
       "2222739  52.99         False                  0  Motorbike Clothing  \n",
       "2222740  79.99         False                  0  Motorbike Clothing  \n",
       "2222741  53.99         False                  0  Motorbike Clothing  \n",
       "\n",
       "[2222742 rows x 7 columns]"
      ]
     },
     "execution_count": 4,
     "metadata": {},
     "output_type": "execute_result"
    }
   ],
   "source": [
    "# data import\n",
    "df = pd.read_csv(\"amazon_data.csv\")\n",
    "df = df.drop(columns=[\"asin\", \"imgUrl\", \"productURL\"],axis=1)\n",
    "df"
   ]
  },
  {
   "cell_type": "markdown",
   "metadata": {},
   "source": [
    "## Preliminary checks"
   ]
  },
  {
   "cell_type": "code",
   "execution_count": 5,
   "metadata": {},
   "outputs": [
    {
     "data": {
      "text/plain": [
       "title                0\n",
       "stars                0\n",
       "reviews              0\n",
       "price                0\n",
       "isBestSeller         0\n",
       "boughtInLastMonth    0\n",
       "categoryName         0\n",
       "dtype: int64"
      ]
     },
     "execution_count": 5,
     "metadata": {},
     "output_type": "execute_result"
    }
   ],
   "source": [
    "# null values\n",
    "df.isnull().sum()"
   ]
  },
  {
   "cell_type": "code",
   "execution_count": 6,
   "metadata": {},
   "outputs": [
    {
     "data": {
      "text/plain": [
       "array([False,  True])"
      ]
     },
     "execution_count": 6,
     "metadata": {},
     "output_type": "execute_result"
    }
   ],
   "source": [
    "df[\"isBestSeller\"].unique()"
   ]
  },
  {
   "cell_type": "code",
   "execution_count": 7,
   "metadata": {},
   "outputs": [
    {
     "name": "stdout",
     "output_type": "stream",
     "text": [
      "<class 'pandas.core.frame.DataFrame'>\n",
      "RangeIndex: 2222742 entries, 0 to 2222741\n",
      "Data columns (total 7 columns):\n",
      " #   Column             Dtype  \n",
      "---  ------             -----  \n",
      " 0   title              object \n",
      " 1   stars              float64\n",
      " 2   reviews            int64  \n",
      " 3   price              float64\n",
      " 4   isBestSeller       bool   \n",
      " 5   boughtInLastMonth  int64  \n",
      " 6   categoryName       object \n",
      "dtypes: bool(1), float64(2), int64(2), object(2)\n",
      "memory usage: 103.9+ MB\n"
     ]
    }
   ],
   "source": [
    "df.info()"
   ]
  },
  {
   "cell_type": "markdown",
   "metadata": {},
   "source": [
    "## Data Exploration\n",
    "Here I look at all the numerical data to gain an understanding on the dataset. I find that from the 2+ million entries, most have 0 stars or reviews. This indicates the majority of products are just listings and do not get any sales.\n",
    "\n",
    "From the price histogram, a clear right skew can be seen. This is the result of a few very high priced items that greatly deviate from the median. "
   ]
  },
  {
   "cell_type": "markdown",
   "metadata": {},
   "source": [
    "### Rating/Stars"
   ]
  },
  {
   "cell_type": "code",
   "execution_count": 36,
   "metadata": {},
   "outputs": [
    {
     "data": {
      "image/png": "[encoded data removed]",
      "text/plain": [
       "<Figure size 640x480 with 1 Axes>"
      ]
     },
     "metadata": {},
     "output_type": "display_data"
    }
   ],
   "source": [
    "plt.hist(df['stars'], bins=50)\n",
    "\n",
    "plt.title('Stars (50 bins)')\n",
    "plt.xlabel(\"Rating (/5)\")\n",
    "plt.ylabel(\"Frequency\")\n",
    "\n",
    "# Save the histogram with a transparent background\n",
    "plt.savefig(\"Figures\\Ratings.png\", transparent=True)\n",
    "\n",
    "plt.show()"
   ]
  },
  {
   "cell_type": "markdown",
   "metadata": {},
   "source": [
    "### No. reviews"
   ]
  },
  {
   "cell_type": "code",
   "execution_count": 35,
   "metadata": {},
   "outputs": [
    {
     "data": {
      "image/png": "[encoded data removed]",
      "text/plain": [
       "<Figure size 640x480 with 1 Axes>"
      ]
     },
     "metadata": {},
     "output_type": "display_data"
    }
   ],
   "source": [
    "b = 75\n",
    "plt.hist(df['reviews'], bins=b)\n",
    "\n",
    "plt.title(f'Reviews ({b} bins)')\n",
    "plt.xlabel(\"No. of reviews\")\n",
    "plt.ylabel(\"Frequency\")\n",
    "\n",
    "# Save the histogram with a transparent background\n",
    "plt.savefig(\"Figures\\Reviews.png\", transparent=True)\n",
    "\n",
    "plt.show()"
   ]
  },
  {
   "cell_type": "markdown",
   "metadata": {},
   "source": [
    "### Prices"
   ]
  },
  {
   "cell_type": "code",
   "execution_count": 45,
   "metadata": {},
   "outputs": [
    {
     "data": {
      "image/png": "[encoded data removed]",
      "text/plain": [
       "<Figure size 640x480 with 1 Axes>"
      ]
     },
     "metadata": {},
     "output_type": "display_data"
    }
   ],
   "source": [
    "plt.hist(df['price'], bins=75)\n",
    "\n",
    "plt.title('Price (75 bins)')\n",
    "plt.xlabel(\"Product price, £\")\n",
    "plt.ylabel(\"Frequency\")\n",
    "\n",
    "# Save the histogram with a transparent background\n",
    "plt.savefig(r\"Figures\\Price.png\", transparent=True)\n",
    "\n",
    "plt.show()"
   ]
  },
  {
   "cell_type": "markdown",
   "metadata": {},
   "source": [
    "### Best seller status"
   ]
  },
  {
   "cell_type": "code",
   "execution_count": 44,
   "metadata": {},
   "outputs": [
    {
     "data": {
      "image/png": "[encoded data removed]",
      "text/plain": [
       "<Figure size 640x480 with 1 Axes>"
      ]
     },
     "metadata": {},
     "output_type": "display_data"
    }
   ],
   "source": [
    "barplot = sns.countplot(x='isBestSeller', data=df)\n",
    "for bar in barplot.containers:\n",
    "    barplot.bar_label(bar)\n",
    "\n",
    "ax = plt.gca()\n",
    "\n",
    "ax.set_xlabel('Best seller?')\n",
    "ax.set_ylabel('Frequency')\n",
    "ax.tick_params(axis='both')\n",
    "\n",
    "# Save the countplot with a transparent background\n",
    "plt.savefig(r\"Figures\\isBestSeller.png\", transparent=True)\n",
    "\n",
    "# Display the countplot\n",
    "plt.show()"
   ]
  },
  {
   "cell_type": "markdown",
   "metadata": {},
   "source": [
    "### No. purchased in the last month"
   ]
  },
  {
   "cell_type": "code",
   "execution_count": 47,
   "metadata": {},
   "outputs": [
    {
     "data": {
      "image/png": "[encoded data removed]",
      "text/plain": [
       "<Figure size 640x480 with 1 Axes>"
      ]
     },
     "metadata": {},
     "output_type": "display_data"
    }
   ],
   "source": [
    "plt.hist(df['boughtInLastMonth'], bins=75)\n",
    "\n",
    "plt.title('boughtInLastMonth (75 bins)')\n",
    "plt.xlabel(\"No. times bought in last month\")\n",
    "plt.ylabel(\"Frequency\")\n",
    "\n",
    "# Save the histogram with a transparent background\n",
    "plt.savefig(r\"Figures\\boughtInLastMonth.png\", transparent=True)\n",
    "\n",
    "plt.show()"
   ]
  },
  {
   "cell_type": "markdown",
   "metadata": {},
   "source": [
    "## Pre-Processing\n",
    "isBestSeller = bool"
   ]
  },
  {
   "cell_type": "markdown",
   "metadata": {},
   "source": [
    "title = string\n",
    "categoryName = string"
   ]
  },
  {
   "cell_type": "code",
   "execution_count": null,
   "metadata": {},
   "outputs": [],
   "source": []
  },
  {
   "cell_type": "code",
   "execution_count": null,
   "metadata": {},
   "outputs": [],
   "source": []
  },
  {
   "cell_type": "code",
   "execution_count": 6,
   "metadata": {},
   "outputs": [
    {
     "data": {
      "text/html": [
       "<div>\n",
       "<style scoped>\n",
       "    .dataframe tbody tr th:only-of-type {\n",
       "        vertical-align: middle;\n",
       "    }\n",
       "\n",
       "    .dataframe tbody tr th {\n",
       "        vertical-align: top;\n",
       "    }\n",
       "\n",
       "    .dataframe thead th {\n",
       "        text-align: right;\n",
       "    }\n",
       "</style>\n",
       "<table border=\"1\" class=\"dataframe\">\n",
       "  <thead>\n",
       "    <tr style=\"text-align: right;\">\n",
       "      <th></th>\n",
       "      <th>stars</th>\n",
       "      <th>reviews</th>\n",
       "      <th>price</th>\n",
       "      <th>boughtInLastMonth</th>\n",
       "    </tr>\n",
       "  </thead>\n",
       "  <tbody>\n",
       "    <tr>\n",
       "      <th>count</th>\n",
       "      <td>2.222742e+06</td>\n",
       "      <td>2.222742e+06</td>\n",
       "      <td>2.222742e+06</td>\n",
       "      <td>2.222742e+06</td>\n",
       "    </tr>\n",
       "    <tr>\n",
       "      <th>mean</th>\n",
       "      <td>2.031870e+00</td>\n",
       "      <td>3.821617e+02</td>\n",
       "      <td>9.425737e+01</td>\n",
       "      <td>1.856902e+01</td>\n",
       "    </tr>\n",
       "    <tr>\n",
       "      <th>std</th>\n",
       "      <td>2.185497e+00</td>\n",
       "      <td>5.020752e+03</td>\n",
       "      <td>3.606225e+02</td>\n",
       "      <td>1.919030e+02</td>\n",
       "    </tr>\n",
       "    <tr>\n",
       "      <th>min</th>\n",
       "      <td>0.000000e+00</td>\n",
       "      <td>0.000000e+00</td>\n",
       "      <td>0.000000e+00</td>\n",
       "      <td>0.000000e+00</td>\n",
       "    </tr>\n",
       "    <tr>\n",
       "      <th>25%</th>\n",
       "      <td>0.000000e+00</td>\n",
       "      <td>0.000000e+00</td>\n",
       "      <td>1.000000e+01</td>\n",
       "      <td>0.000000e+00</td>\n",
       "    </tr>\n",
       "    <tr>\n",
       "      <th>50%</th>\n",
       "      <td>0.000000e+00</td>\n",
       "      <td>0.000000e+00</td>\n",
       "      <td>1.990000e+01</td>\n",
       "      <td>0.000000e+00</td>\n",
       "    </tr>\n",
       "    <tr>\n",
       "      <th>75%</th>\n",
       "      <td>4.400000e+00</td>\n",
       "      <td>4.400000e+01</td>\n",
       "      <td>4.771000e+01</td>\n",
       "      <td>0.000000e+00</td>\n",
       "    </tr>\n",
       "    <tr>\n",
       "      <th>max</th>\n",
       "      <td>5.000000e+00</td>\n",
       "      <td>1.356658e+06</td>\n",
       "      <td>1.000000e+05</td>\n",
       "      <td>5.000000e+04</td>\n",
       "    </tr>\n",
       "  </tbody>\n",
       "</table>\n",
       "</div>"
      ],
      "text/plain": [
       "              stars       reviews         price  boughtInLastMonth\n",
       "count  2.222742e+06  2.222742e+06  2.222742e+06       2.222742e+06\n",
       "mean   2.031870e+00  3.821617e+02  9.425737e+01       1.856902e+01\n",
       "std    2.185497e+00  5.020752e+03  3.606225e+02       1.919030e+02\n",
       "min    0.000000e+00  0.000000e+00  0.000000e+00       0.000000e+00\n",
       "25%    0.000000e+00  0.000000e+00  1.000000e+01       0.000000e+00\n",
       "50%    0.000000e+00  0.000000e+00  1.990000e+01       0.000000e+00\n",
       "75%    4.400000e+00  4.400000e+01  4.771000e+01       0.000000e+00\n",
       "max    5.000000e+00  1.356658e+06  1.000000e+05       5.000000e+04"
      ]
     },
     "execution_count": 6,
     "metadata": {},
     "output_type": "execute_result"
    }
   ],
   "source": [
    "df.describe()"
   ]
  },
  {
   "cell_type": "code",
   "execution_count": null,
   "metadata": {},
   "outputs": [],
   "source": []
  },
  {
   "cell_type": "code",
   "execution_count": 7,
   "metadata": {},
   "outputs": [
    {
     "data": {
      "text/plain": [
       "array(['Hi-Fi Speakers', 'CD, Disc & Tape Players', 'Wearable Technology',\n",
       "       'Light Bulbs', 'Bathroom Lighting',\n",
       "       'Heating, Cooling & Air Quality', 'Coffee & Espresso Machines',\n",
       "       'Lab & Scientific Products', 'Smart Speakers',\n",
       "       'Motorbike Clothing', 'Motorbike Accessories',\n",
       "       'Motorbike Batteries', 'Motorbike Boots & Luggage',\n",
       "       'Motorbike Chassis', 'Handmade Home & Kitchen Products',\n",
       "       'Hardware', 'Storage & Home Organisation',\n",
       "       'Fireplaces, Stoves & Accessories', 'PC Gaming Accessories',\n",
       "       'USB Gadgets', 'Blank Media Cases & Wallets', 'Car & Motorbike',\n",
       "       'Boys', 'Sports & Outdoors', 'Microphones', 'String Instruments',\n",
       "       'Karaoke Equipment', 'PA & Stage',\n",
       "       'General Music-Making Accessories', 'Wind Instruments',\n",
       "       'Handmade Gifts', 'Fragrances', 'Calendars & Personal Organisers',\n",
       "       'Furniture & Lighting', 'Computer Printers', 'Ski Goggles',\n",
       "       'Snowboards', 'Skiing Poles', 'Downhill Ski Boots',\n",
       "       'Hiking Hand & Foot Warmers', 'Pet Supplies',\n",
       "       'Plants, Seeds & Bulbs', 'Garden Furniture & Accessories',\n",
       "       'Bird & Wildlife Care', 'Storage & Organisation',\n",
       "       'Living Room Furniture', 'Bedding & Linen',\n",
       "       'Curtain & Blind Accessories', 'Skin Care',\n",
       "       \"Kids' Art & Craft Supplies\", \"Kids' Play Vehicles\", 'Hobbies',\n",
       "       'Laptops', 'Projectors', 'Graphics Cards', 'Computer Memory',\n",
       "       'Motherboards', 'Power Supplies', 'CPUs', 'Computer Screws',\n",
       "       'Streaming Clients', '3D Printers', 'Barebone PCs',\n",
       "       \"Women's Sports & Outdoor Shoes\", 'Luxury Food & Drink',\n",
       "       'Alexa Built-In Devices', 'PC & Video Games', 'SIM Cards',\n",
       "       'Mobile Phone Accessories', 'Birthday Gifts',\n",
       "       'Handmade Kitchen & Dining', 'Abrasive & Finishing Products',\n",
       "       'Professional Medical Supplies', 'Cutting Tools',\n",
       "       'Material Handling Products', 'Packaging & Shipping Supplies',\n",
       "       'Power & Hand Tools', 'Agricultural Equipment & Supplies',\n",
       "       'Tennis Shoes', 'Boating Footwear', 'Cycling Shoes', 'Bath & Body',\n",
       "       'Home Brewing & Wine Making', 'Tableware',\n",
       "       'Kitchen Storage & Organisation', 'Kitchen Tools & Gadgets',\n",
       "       'Cookware', 'Water Coolers, Filters & Cartridges',\n",
       "       'Beer, Wine & Spirits', 'Manicure & Pedicure Products', 'Flashes',\n",
       "       'Computers, Components & Accessories', 'Home Audio Record Players',\n",
       "       'Radios & Boomboxes', 'Car & Vehicle Electronics',\n",
       "       'eBook Readers & Accessories', 'Lighting',\n",
       "       'Small Kitchen Appliances', 'Motorbike Engines & Engine Parts',\n",
       "       'Motorbike Drive & Gears', 'Motorbike Brakes',\n",
       "       'Motorbike Exhaust & Exhaust Systems',\n",
       "       'Motorbike Handlebars, Controls & Grips',\n",
       "       'Mowers & Outdoor Power Tools', 'Kitchen & Bath Fixtures',\n",
       "       'Rough Plumbing', 'Monitor Accessories', 'Cables & Accessories',\n",
       "       'Guitars & Gear', 'Pens, Pencils & Writing Supplies',\n",
       "       'School & Educational Supplies', 'Ski Clothing',\n",
       "       'Outdoor Heaters & Fire Pits', 'Garden Décor', 'Beauty',\n",
       "       'Made in Italy Handmade', 'Cushions & Accessories',\n",
       "       'Home Fragrance', 'Window Treatments',\n",
       "       'Home Entertainment Furniture', 'Dining Room Furniture',\n",
       "       'Home Bar Furniture', 'Kitchen Linen', 'Mattress Pads & Toppers',\n",
       "       \"Children's Bedding\", 'Bedding Accessories',\n",
       "       'Games & Game Accessories', 'Dolls & Accessories',\n",
       "       'Sports Toys & Outdoor', 'Monitors', 'I/O Port Cards',\n",
       "       'Computer Cases', 'KVM Switches', 'Printers & Accessories',\n",
       "       'Telephones, VoIP & Accessories', 'Handmade Artwork',\n",
       "       'Industrial Electrical', 'Test & Measurement',\n",
       "       '3D Printing & Scanning', 'Basketball Footwear', 'Make-up',\n",
       "       'Surveillance Cameras', 'Photo Printers', 'Tripods & Monopods',\n",
       "       'Mobile Phones & Communication', 'Electrical Power Accessories',\n",
       "       'Radio Communication', 'Outdoor Rope Lights',\n",
       "       'Vacuums & Floorcare', 'Large Appliances', 'Motorbike Lighting',\n",
       "       'Motorbike Seat Covers', 'Motorbike Instruments',\n",
       "       'Motorbike Electrical & Batteries', 'Lights and switches', 'Plugs',\n",
       "       'Home Entertainment', 'Girls',\n",
       "       'Painting Supplies, Tools & Wall Treatments', 'Building Supplies',\n",
       "       'Safety & Security', 'Tablet Accessories',\n",
       "       'Keyboards, Mice & Input Devices', 'Laptop Accessories',\n",
       "       'Headphones & Earphones', 'Baby', 'Smartwatches',\n",
       "       'Piano & Keyboard', 'Drums & Percussion',\n",
       "       'Synthesisers, Samplers & Digital Instruments',\n",
       "       'Office Electronics', 'Office Supplies', 'Gardening',\n",
       "       'Outdoor Cooking', 'Decking & Fencing',\n",
       "       'Thermometers & Meteorological Instruments',\n",
       "       'Pools, Hot Tubs & Supplies', 'Health & Personal Care',\n",
       "       'Decorative Artificial Flora', 'Candles & Holders',\n",
       "       'Signs & Plaques', 'Home Office Furniture', 'Bathroom Furniture',\n",
       "       'Inflatable Beds, Pillows & Accessories', 'Bathroom Linen',\n",
       "       'Bedding Collections', \"Kids' Play Figures\", 'Baby & Toddler Toys',\n",
       "       'Learning & Education Toys', 'Toy Advent Calendars',\n",
       "       'Electronic Toys', 'Tablets', 'External Sound Cards',\n",
       "       'Internal TV Tuner & Video Capture Cards',\n",
       "       'External TV Tuners & Video Capture Cards',\n",
       "       'Scanners & Accessories', \"Men's Sports & Outdoor Shoes\",\n",
       "       'Darts & Dartboards', 'Table Tennis', 'Billiard, Snooker & Pool',\n",
       "       'Bowling', 'Trampolines & Accessories',\n",
       "       'Handmade Clothing, Shoes & Accessories', 'Handmade Home Décor',\n",
       "       'Handmade', 'Smart Home Security & Lighting',\n",
       "       'Professional Education Supplies',\n",
       "       'Hydraulics, Pneumatics & Plumbing', 'Ballet & Dancing Footwear',\n",
       "       'Cricket Shoes', 'Golf Shoes', 'Boxing Shoes', 'Men',\n",
       "       'Headphones, Earphones & Accessories', 'Bakeware', 'Grocery',\n",
       "       'Lenses', 'Camcorders', 'Camera & Photo Accessories',\n",
       "       'Household Batteries, Chargers & Accessories',\n",
       "       'Home Cinema, TV & Video', 'Hi-Fi & Home Audio Accessories',\n",
       "       'Portable Sound & Video Products', 'Outdoor Lighting', 'Torches',\n",
       "       'Sports Supplements', 'Ironing & Steamers',\n",
       "       \"Customers' Most Loved\", 'Cameras', 'Electrical',\n",
       "       'Construction Machinery', 'Handmade Baby Products', 'USB Hubs',\n",
       "       'Computer Audio & Video Accessories', 'Adapters',\n",
       "       'Computer & Server Racks', 'Hard Drive Accessories',\n",
       "       'Printer Accessories', 'Computer Memory Card Accessories',\n",
       "       'Uninterruptible Power Supply Units & Accessories',\n",
       "       'Luggage and travel gear', 'Bass Guitars & Gear',\n",
       "       'Recording & Computer', 'DJ & VJ Equipment',\n",
       "       'Art & Craft Supplies', 'Office Paper Products', 'Ski Helmets',\n",
       "       'Snowboard Boots', 'Snowboard Bindings', 'Downhill Skis',\n",
       "       'Snow Sledding Equipment', 'Networking Devices',\n",
       "       'Garden Storage & Housing', 'Garden Tools & Watering Equipment',\n",
       "       'Photo Frames', 'Rugs, Pads & Protectors', 'Mirrors', 'Clocks',\n",
       "       'Doormats', 'Decorative Home Accessories', 'Boxes & Organisers',\n",
       "       'Slipcovers', 'Vases', 'Bedroom Furniture', 'Hallway Furniture',\n",
       "       'Jigsaws & Puzzles', 'Building & Construction Toys',\n",
       "       'Remote & App-Controlled Devices', \"Kids' Dress Up & Pretend Play\",\n",
       "       'Soft Toys', 'Desktop PCs', 'External Optical Drives',\n",
       "       'Internal Optical Drives', 'Network Cards', 'Data Storage',\n",
       "       'Mobile Phones & Smartphones', 'Handmade Jewellery',\n",
       "       'Gifts for Him', 'Gifts for Her', 'Women', 'Hockey Shoes',\n",
       "       'Climbing Footwear', 'Equestrian Sports Boots', 'Arts & Crafts',\n",
       "       'Hair Care', 'Coffee, Tea & Espresso', 'Digital Cameras',\n",
       "       'Digital Frames', 'Action Cameras', 'Film Cameras',\n",
       "       'Binoculars, Telescopes & Optics', 'Media Streaming Devices',\n",
       "       'Hi-Fi Receivers & Separates', 'GPS, Finders & Accessories',\n",
       "       'Indoor Lighting', 'String Lights'], dtype=object)"
      ]
     },
     "execution_count": 7,
     "metadata": {},
     "output_type": "execute_result"
    }
   ],
   "source": [
    "df.categoryName.unique()"
   ]
  },
  {
   "cell_type": "code",
   "execution_count": null,
   "metadata": {},
   "outputs": [],
   "source": []
  }
 ],
 "metadata": {
  "kernelspec": {
   "display_name": "Python 3",
   "language": "python",
   "name": "python3"
  },
  "language_info": {
   "codemirror_mode": {
    "name": "ipython",
    "version": 3
   },
   "file_extension": ".py",
   "mimetype": "text/x-python",
   "name": "python",
   "nbconvert_exporter": "python",
   "pygments_lexer": "ipython3",
   "version": "3.11.6"
  },
  "orig_nbformat": 4
 },
 "nbformat": 4,
 "nbformat_minor": 2
}
